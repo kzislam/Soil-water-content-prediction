{
 "cells": [
  {
   "cell_type": "code",
   "execution_count": 1,
   "id": "6b1d3bdd",
   "metadata": {},
   "outputs": [
    {
     "data": {
      "text/html": [
       "<div>\n",
       "<style scoped>\n",
       "    .dataframe tbody tr th:only-of-type {\n",
       "        vertical-align: middle;\n",
       "    }\n",
       "\n",
       "    .dataframe tbody tr th {\n",
       "        vertical-align: top;\n",
       "    }\n",
       "\n",
       "    .dataframe thead th {\n",
       "        text-align: right;\n",
       "    }\n",
       "</style>\n",
       "<table border=\"1\" class=\"dataframe\">\n",
       "  <thead>\n",
       "    <tr style=\"text-align: right;\">\n",
       "      <th></th>\n",
       "      <th>date</th>\n",
       "      <th>ppt</th>\n",
       "      <th>temp</th>\n",
       "      <th>swc</th>\n",
       "      <th>av_swc</th>\n",
       "    </tr>\n",
       "  </thead>\n",
       "  <tbody>\n",
       "    <tr>\n",
       "      <th>0</th>\n",
       "      <td>25-Jun</td>\n",
       "      <td>0.00</td>\n",
       "      <td>15.15</td>\n",
       "      <td>6.853846</td>\n",
       "      <td>8.983828</td>\n",
       "    </tr>\n",
       "    <tr>\n",
       "      <th>1</th>\n",
       "      <td>26-Jun</td>\n",
       "      <td>3.91</td>\n",
       "      <td>15.92</td>\n",
       "      <td>7.079167</td>\n",
       "      <td>9.242175</td>\n",
       "    </tr>\n",
       "    <tr>\n",
       "      <th>2</th>\n",
       "      <td>27-Jun</td>\n",
       "      <td>28.54</td>\n",
       "      <td>17.55</td>\n",
       "      <td>16.808333</td>\n",
       "      <td>21.879268</td>\n",
       "    </tr>\n",
       "    <tr>\n",
       "      <th>3</th>\n",
       "      <td>28-Jun</td>\n",
       "      <td>5.00</td>\n",
       "      <td>17.03</td>\n",
       "      <td>17.379167</td>\n",
       "      <td>24.168394</td>\n",
       "    </tr>\n",
       "    <tr>\n",
       "      <th>4</th>\n",
       "      <td>29-Jun</td>\n",
       "      <td>0.07</td>\n",
       "      <td>14.43</td>\n",
       "      <td>13.500000</td>\n",
       "      <td>17.626829</td>\n",
       "    </tr>\n",
       "  </tbody>\n",
       "</table>\n",
       "</div>"
      ],
      "text/plain": [
       "     date    ppt   temp        swc     av_swc\n",
       "0  25-Jun   0.00  15.15   6.853846   8.983828\n",
       "1  26-Jun   3.91  15.92   7.079167   9.242175\n",
       "2  27-Jun  28.54  17.55  16.808333  21.879268\n",
       "3  28-Jun   5.00  17.03  17.379167  24.168394\n",
       "4  29-Jun   0.07  14.43  13.500000  17.626829"
      ]
     },
     "execution_count": 1,
     "metadata": {},
     "output_type": "execute_result"
    }
   ],
   "source": [
    "# Import DataSet\n",
    "import pandas as pd\n",
    "from matplotlib import pyplot as plt\n",
    "# create 2 data frame. 1 for regression and another for classification\n",
    "df = pd.read_excel('SWC.xlsx')\n",
    "\n",
    "df_regression = df.copy()\n",
    "df_classification = df.copy()\n",
    "df.head()"
   ]
  },
  {
   "cell_type": "code",
   "execution_count": null,
   "id": "459be352",
   "metadata": {},
   "outputs": [],
   "source": [
    "#Regression"
   ]
  },
  {
   "cell_type": "code",
   "execution_count": 3,
   "id": "135e6083",
   "metadata": {},
   "outputs": [
    {
     "data": {
      "text/html": [
       "<div>\n",
       "<style scoped>\n",
       "    .dataframe tbody tr th:only-of-type {\n",
       "        vertical-align: middle;\n",
       "    }\n",
       "\n",
       "    .dataframe tbody tr th {\n",
       "        vertical-align: top;\n",
       "    }\n",
       "\n",
       "    .dataframe thead th {\n",
       "        text-align: right;\n",
       "    }\n",
       "</style>\n",
       "<table border=\"1\" class=\"dataframe\">\n",
       "  <thead>\n",
       "    <tr style=\"text-align: right;\">\n",
       "      <th></th>\n",
       "      <th>ppt</th>\n",
       "      <th>temp</th>\n",
       "    </tr>\n",
       "  </thead>\n",
       "  <tbody>\n",
       "    <tr>\n",
       "      <th>0</th>\n",
       "      <td>0.00</td>\n",
       "      <td>15.15</td>\n",
       "    </tr>\n",
       "    <tr>\n",
       "      <th>1</th>\n",
       "      <td>3.91</td>\n",
       "      <td>15.92</td>\n",
       "    </tr>\n",
       "    <tr>\n",
       "      <th>2</th>\n",
       "      <td>28.54</td>\n",
       "      <td>17.55</td>\n",
       "    </tr>\n",
       "    <tr>\n",
       "      <th>3</th>\n",
       "      <td>5.00</td>\n",
       "      <td>17.03</td>\n",
       "    </tr>\n",
       "    <tr>\n",
       "      <th>4</th>\n",
       "      <td>0.07</td>\n",
       "      <td>14.43</td>\n",
       "    </tr>\n",
       "  </tbody>\n",
       "</table>\n",
       "</div>"
      ],
      "text/plain": [
       "     ppt   temp\n",
       "0   0.00  15.15\n",
       "1   3.91  15.92\n",
       "2  28.54  17.55\n",
       "3   5.00  17.03\n",
       "4   0.07  14.43"
      ]
     },
     "execution_count": 3,
     "metadata": {},
     "output_type": "execute_result"
    }
   ],
   "source": [
    "# before doing regression separate X (ppt, temp) and Y (swc)\n",
    "col_x_regr = df_regression[['ppt', 'temp']].copy()\n",
    "col_y_regr = df_regression[['swc']].copy()\n",
    "# col_y_regr.head()\n",
    "col_x_regr.head()"
   ]
  },
  {
   "cell_type": "code",
   "execution_count": 4,
   "id": "e294b04f",
   "metadata": {},
   "outputs": [],
   "source": [
    "# create train dataset and test dataset (70% / 30%)\n",
    "from sklearn.model_selection import train_test_split\n",
    "xtrain, xtest, ytrain, ytest = train_test_split(col_x_regr, col_y_regr, test_size=0.30)"
   ]
  },
  {
   "cell_type": "markdown",
   "id": "e6ebbca0",
   "metadata": {},
   "source": [
    "# Linear Regression, MSE, MAE"
   ]
  },
  {
   "cell_type": "code",
   "execution_count": 5,
   "id": "958dc77c",
   "metadata": {},
   "outputs": [],
   "source": [
    "# apply linear regression\n",
    "from sklearn.linear_model import LinearRegression\n",
    "l_reg = LinearRegression()\n",
    "\n",
    "l_reg.fit(xtrain, ytrain)\n",
    "# l_reg.predict([[1, 73.847017]])\n",
    "test_predictions = l_reg.predict(xtest)"
   ]
  },
  {
   "cell_type": "code",
   "execution_count": 6,
   "id": "b650f528",
   "metadata": {},
   "outputs": [
    {
     "data": {
      "text/plain": [
       "60.5273921111007"
      ]
     },
     "execution_count": 6,
     "metadata": {},
     "output_type": "execute_result"
    }
   ],
   "source": [
    "# get MSE, MAE \n",
    "from sklearn.metrics import mean_squared_error, mean_absolute_error\n",
    "l_reg_mse = mean_squared_error(ytest, test_predictions)\n",
    "l_reg_mse"
   ]
  },
  {
   "cell_type": "markdown",
   "id": "f981ea72",
   "metadata": {},
   "source": [
    "# MAE"
   ]
  },
  {
   "cell_type": "code",
   "execution_count": 9,
   "id": "35de29ec",
   "metadata": {},
   "outputs": [
    {
     "data": {
      "text/plain": [
       "6.095298736447452"
      ]
     },
     "execution_count": 9,
     "metadata": {},
     "output_type": "execute_result"
    }
   ],
   "source": [
    "l_reg_mae = mean_absolute_error(ytest, test_predictions)\n",
    "l_reg_mae"
   ]
  },
  {
   "cell_type": "markdown",
   "id": "e970d8c3",
   "metadata": {},
   "source": [
    "# KNN Regression, MSE, MAE"
   ]
  },
  {
   "cell_type": "code",
   "execution_count": 10,
   "id": "49294551",
   "metadata": {},
   "outputs": [],
   "source": [
    "# https://scikit-learn.org/stable/modules/generated/sklearn.neighbors.KNeighborsRegressor.html\n",
    "from sklearn.neighbors import KNeighborsRegressor\n",
    "# Weight function used in prediction = uniform\n",
    "kn_reg = KNeighborsRegressor(n_neighbors=5)\n",
    "kn_reg.fit(xtrain, ytrain)\n",
    "# kn_reg.predict([[1, 73.847017]])\n",
    "knreg_test_predictions = kn_reg.predict(xtest)\n",
    "\n",
    "# Weight function used in prediction = distance\n",
    "kn_distance_reg = KNeighborsRegressor(n_neighbors=5, weights='distance')\n",
    "kn_distance_reg.fit(xtrain, ytrain)\n",
    "# kn_reg.predict([[1, 73.847017]])\n",
    "knreg_distance_test_predictions = kn_distance_reg.predict(xtest)"
   ]
  },
  {
   "cell_type": "code",
   "execution_count": 11,
   "id": "18c0fd3a",
   "metadata": {},
   "outputs": [
    {
     "data": {
      "text/plain": [
       "57.7132012096416"
      ]
     },
     "execution_count": 11,
     "metadata": {},
     "output_type": "execute_result"
    }
   ],
   "source": [
    "from sklearn.metrics import mean_squared_error, mean_absolute_error\n",
    "kn_reg_mse = mean_squared_error(ytest, knreg_test_predictions)\n",
    "kn_reg_mse"
   ]
  },
  {
   "cell_type": "code",
   "execution_count": 12,
   "id": "44f53593",
   "metadata": {},
   "outputs": [
    {
     "data": {
      "text/plain": [
       "6.202612612612613"
      ]
     },
     "execution_count": 12,
     "metadata": {},
     "output_type": "execute_result"
    }
   ],
   "source": [
    "kn_reg_mae = mean_absolute_error(ytest, knreg_test_predictions)\n",
    "kn_reg_mae"
   ]
  },
  {
   "cell_type": "code",
   "execution_count": 13,
   "id": "10290791",
   "metadata": {},
   "outputs": [
    {
     "data": {
      "text/plain": [
       "59.098954124419535"
      ]
     },
     "execution_count": 13,
     "metadata": {},
     "output_type": "execute_result"
    }
   ],
   "source": [
    "kn_reg_distance_mse = mean_squared_error(ytest, knreg_distance_test_predictions)\n",
    "kn_reg_distance_mse"
   ]
  },
  {
   "cell_type": "code",
   "execution_count": 14,
   "id": "0a00b2f5",
   "metadata": {},
   "outputs": [
    {
     "data": {
      "text/plain": [
       "6.05606346001663"
      ]
     },
     "execution_count": 14,
     "metadata": {},
     "output_type": "execute_result"
    }
   ],
   "source": [
    "kn_reg_distance_mae = mean_absolute_error(ytest, knreg_distance_test_predictions)\n",
    "kn_reg_distance_mae"
   ]
  },
  {
   "cell_type": "markdown",
   "id": "9921423e",
   "metadata": {},
   "source": [
    "Bar Chart for obtained MSE and MAE from this 2 Algorithm"
   ]
  },
  {
   "cell_type": "code",
   "execution_count": 15,
   "id": "011d4ab7",
   "metadata": {},
   "outputs": [
    {
     "data": {
      "text/plain": [
       "Text(0, 0.5, 'Value')"
      ]
     },
     "execution_count": 15,
     "metadata": {},
     "output_type": "execute_result"
    },
    {
     "data": {
      "text/plain": [
       "<Figure size 1440x720 with 0 Axes>"
      ]
     },
     "metadata": {},
     "output_type": "display_data"
    },
    {
     "data": {
      "image/png": "[encoded data removed]",
      "text/plain": [
       "<Figure size 432x288 with 1 Axes>"
      ]
     },
     "metadata": {
      "needs_background": "light"
     },
     "output_type": "display_data"
    }
   ],
   "source": [
    "plt.figure(figsize=(20,10))\n",
    "plotdata = pd.DataFrame({\n",
    "    \"KNNR-U\":[kn_reg_mse, kn_reg_mae],\n",
    "    \"KNNR-D\":[kn_reg_distance_mse, kn_reg_distance_mae],\n",
    "    \"LR\":[l_reg_mse, l_reg_mae]\n",
    "    }, \n",
    "    index=[\"MSE\", \"MAE\"]\n",
    ")\n",
    "plotdata.plot(kind=\"bar\")\n",
    "plt.title(\"Linear Reg vs KNN Linear Regression\")\n",
    "plt.xlabel(\"Erros\")\n",
    "plt.ylabel(\"Value\")"
   ]
  },
  {
   "cell_type": "code",
   "execution_count": null,
   "id": "8edf2f87",
   "metadata": {},
   "outputs": [],
   "source": []
  }
 ],
 "metadata": {
  "kernelspec": {
   "display_name": "Python 3 (ipykernel)",
   "language": "python",
   "name": "python3"
  },
  "language_info": {
   "codemirror_mode": {
    "name": "ipython",
    "version": 3
   },
   "file_extension": ".py",
   "mimetype": "text/x-python",
   "name": "python",
   "nbconvert_exporter": "python",
   "pygments_lexer": "ipython3",
   "version": "3.9.12"
  }
 },
 "nbformat": 4,
 "nbformat_minor": 5
}
