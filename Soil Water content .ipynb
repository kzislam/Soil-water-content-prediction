{
 "cells": [
  {
   "cell_type": "markdown",
   "id": "af2992af",
   "metadata": {},
   "source": [
    "# Predict Soil Water Content using Machine Learning Model"
   ]
  },
  {
   "cell_type": "code",
   "execution_count": 552,
   "id": "a3bfeed7",
   "metadata": {},
   "outputs": [],
   "source": [
    "import numpy as np\n",
    "import pandas as pd\n",
    "from sklearn.model_selection import train_test_split\n",
    "from sklearn.linear_model import LinearRegression\n",
    "from sklearn.metrics import r2_score\n",
    "import matplotlib.pyplot as plt\n",
    "import seaborn as sns\n",
    "import warnings\n",
    "warnings.filterwarnings(\"ignore\")"
   ]
  },
  {
   "cell_type": "code",
   "execution_count": 553,
   "id": "e0e5ed09",
   "metadata": {},
   "outputs": [],
   "source": [
    "df = pd.read_excel('SWC.xlsx')"
   ]
  },
  {
   "cell_type": "code",
   "execution_count": 554,
   "id": "2d197611",
   "metadata": {},
   "outputs": [
    {
     "data": {
      "text/html": [
       "<div>\n",
       "<style scoped>\n",
       "    .dataframe tbody tr th:only-of-type {\n",
       "        vertical-align: middle;\n",
       "    }\n",
       "\n",
       "    .dataframe tbody tr th {\n",
       "        vertical-align: top;\n",
       "    }\n",
       "\n",
       "    .dataframe thead th {\n",
       "        text-align: right;\n",
       "    }\n",
       "</style>\n",
       "<table border=\"1\" class=\"dataframe\">\n",
       "  <thead>\n",
       "    <tr style=\"text-align: right;\">\n",
       "      <th></th>\n",
       "      <th>date</th>\n",
       "      <th>ppt</th>\n",
       "      <th>temp</th>\n",
       "      <th>swc</th>\n",
       "      <th>av_swc</th>\n",
       "    </tr>\n",
       "  </thead>\n",
       "  <tbody>\n",
       "    <tr>\n",
       "      <th>0</th>\n",
       "      <td>25-Jun</td>\n",
       "      <td>0.00</td>\n",
       "      <td>15.15</td>\n",
       "      <td>6.853846</td>\n",
       "      <td>8.983828</td>\n",
       "    </tr>\n",
       "    <tr>\n",
       "      <th>1</th>\n",
       "      <td>26-Jun</td>\n",
       "      <td>3.91</td>\n",
       "      <td>15.92</td>\n",
       "      <td>7.079167</td>\n",
       "      <td>9.242175</td>\n",
       "    </tr>\n",
       "    <tr>\n",
       "      <th>2</th>\n",
       "      <td>27-Jun</td>\n",
       "      <td>28.54</td>\n",
       "      <td>17.55</td>\n",
       "      <td>16.808333</td>\n",
       "      <td>21.879268</td>\n",
       "    </tr>\n",
       "    <tr>\n",
       "      <th>3</th>\n",
       "      <td>28-Jun</td>\n",
       "      <td>5.00</td>\n",
       "      <td>17.03</td>\n",
       "      <td>17.379167</td>\n",
       "      <td>24.168394</td>\n",
       "    </tr>\n",
       "    <tr>\n",
       "      <th>4</th>\n",
       "      <td>29-Jun</td>\n",
       "      <td>0.07</td>\n",
       "      <td>14.43</td>\n",
       "      <td>13.500000</td>\n",
       "      <td>17.626829</td>\n",
       "    </tr>\n",
       "  </tbody>\n",
       "</table>\n",
       "</div>"
      ],
      "text/plain": [
       "     date    ppt   temp        swc     av_swc\n",
       "0  25-Jun   0.00  15.15   6.853846   8.983828\n",
       "1  26-Jun   3.91  15.92   7.079167   9.242175\n",
       "2  27-Jun  28.54  17.55  16.808333  21.879268\n",
       "3  28-Jun   5.00  17.03  17.379167  24.168394\n",
       "4  29-Jun   0.07  14.43  13.500000  17.626829"
      ]
     },
     "execution_count": 554,
     "metadata": {},
     "output_type": "execute_result"
    }
   ],
   "source": [
    "df.head()"
   ]
  },
  {
   "cell_type": "code",
   "execution_count": 555,
   "id": "113a0464",
   "metadata": {},
   "outputs": [],
   "source": [
    "#df2 = pd.read_excel('new.xlsx')\n",
    "#df2.head()"
   ]
  },
  {
   "cell_type": "code",
   "execution_count": 556,
   "id": "90de6874",
   "metadata": {},
   "outputs": [
    {
     "data": {
      "text/plain": [
       "'C:\\\\Users\\\\kamal\\\\Desktop\\\\SWC ML model'"
      ]
     },
     "execution_count": 556,
     "metadata": {},
     "output_type": "execute_result"
    }
   ],
   "source": [
    "#current working dir\n",
    "import os\n",
    "os.getcwd()"
   ]
  },
  {
   "cell_type": "code",
   "execution_count": 557,
   "id": "e1d70dac",
   "metadata": {},
   "outputs": [
    {
     "data": {
      "text/html": [
       "<div>\n",
       "<style scoped>\n",
       "    .dataframe tbody tr th:only-of-type {\n",
       "        vertical-align: middle;\n",
       "    }\n",
       "\n",
       "    .dataframe tbody tr th {\n",
       "        vertical-align: top;\n",
       "    }\n",
       "\n",
       "    .dataframe thead th {\n",
       "        text-align: right;\n",
       "    }\n",
       "</style>\n",
       "<table border=\"1\" class=\"dataframe\">\n",
       "  <thead>\n",
       "    <tr style=\"text-align: right;\">\n",
       "      <th></th>\n",
       "      <th>date</th>\n",
       "      <th>ppt</th>\n",
       "      <th>temp</th>\n",
       "      <th>swc</th>\n",
       "      <th>av_swc</th>\n",
       "    </tr>\n",
       "  </thead>\n",
       "  <tbody>\n",
       "    <tr>\n",
       "      <th>0</th>\n",
       "      <td>25-Jun</td>\n",
       "      <td>0.00</td>\n",
       "      <td>15.15</td>\n",
       "      <td>6.853846</td>\n",
       "      <td>8.983828</td>\n",
       "    </tr>\n",
       "    <tr>\n",
       "      <th>1</th>\n",
       "      <td>26-Jun</td>\n",
       "      <td>3.91</td>\n",
       "      <td>15.92</td>\n",
       "      <td>7.079167</td>\n",
       "      <td>9.242175</td>\n",
       "    </tr>\n",
       "    <tr>\n",
       "      <th>2</th>\n",
       "      <td>27-Jun</td>\n",
       "      <td>28.54</td>\n",
       "      <td>17.55</td>\n",
       "      <td>16.808333</td>\n",
       "      <td>21.879268</td>\n",
       "    </tr>\n",
       "    <tr>\n",
       "      <th>3</th>\n",
       "      <td>28-Jun</td>\n",
       "      <td>5.00</td>\n",
       "      <td>17.03</td>\n",
       "      <td>17.379167</td>\n",
       "      <td>24.168394</td>\n",
       "    </tr>\n",
       "    <tr>\n",
       "      <th>4</th>\n",
       "      <td>29-Jun</td>\n",
       "      <td>0.07</td>\n",
       "      <td>14.43</td>\n",
       "      <td>13.500000</td>\n",
       "      <td>17.626829</td>\n",
       "    </tr>\n",
       "    <tr>\n",
       "      <th>5</th>\n",
       "      <td>30-Jun</td>\n",
       "      <td>1.52</td>\n",
       "      <td>15.29</td>\n",
       "      <td>12.537500</td>\n",
       "      <td>15.303837</td>\n",
       "    </tr>\n",
       "    <tr>\n",
       "      <th>6</th>\n",
       "      <td>01-Jul</td>\n",
       "      <td>18.73</td>\n",
       "      <td>8.52</td>\n",
       "      <td>21.883333</td>\n",
       "      <td>26.642636</td>\n",
       "    </tr>\n",
       "    <tr>\n",
       "      <th>7</th>\n",
       "      <td>02-Jul</td>\n",
       "      <td>0.09</td>\n",
       "      <td>8.98</td>\n",
       "      <td>18.175000</td>\n",
       "      <td>23.184981</td>\n",
       "    </tr>\n",
       "    <tr>\n",
       "      <th>8</th>\n",
       "      <td>03-Jul</td>\n",
       "      <td>0.01</td>\n",
       "      <td>14.19</td>\n",
       "      <td>15.516667</td>\n",
       "      <td>18.121899</td>\n",
       "    </tr>\n",
       "    <tr>\n",
       "      <th>9</th>\n",
       "      <td>04-Jul</td>\n",
       "      <td>5.31</td>\n",
       "      <td>12.23</td>\n",
       "      <td>14.900000</td>\n",
       "      <td>16.596415</td>\n",
       "    </tr>\n",
       "  </tbody>\n",
       "</table>\n",
       "</div>"
      ],
      "text/plain": [
       "     date    ppt   temp        swc     av_swc\n",
       "0  25-Jun   0.00  15.15   6.853846   8.983828\n",
       "1  26-Jun   3.91  15.92   7.079167   9.242175\n",
       "2  27-Jun  28.54  17.55  16.808333  21.879268\n",
       "3  28-Jun   5.00  17.03  17.379167  24.168394\n",
       "4  29-Jun   0.07  14.43  13.500000  17.626829\n",
       "5  30-Jun   1.52  15.29  12.537500  15.303837\n",
       "6  01-Jul  18.73   8.52  21.883333  26.642636\n",
       "7  02-Jul   0.09   8.98  18.175000  23.184981\n",
       "8  03-Jul   0.01  14.19  15.516667  18.121899\n",
       "9  04-Jul   5.31  12.23  14.900000  16.596415"
      ]
     },
     "execution_count": 557,
     "metadata": {},
     "output_type": "execute_result"
    }
   ],
   "source": [
    "df.head(10)"
   ]
  },
  {
   "cell_type": "code",
   "execution_count": 558,
   "id": "ea781099",
   "metadata": {},
   "outputs": [
    {
     "data": {
      "text/plain": [
       "(123, 5)"
      ]
     },
     "execution_count": 558,
     "metadata": {},
     "output_type": "execute_result"
    }
   ],
   "source": [
    "df.shape"
   ]
  },
  {
   "cell_type": "code",
   "execution_count": 559,
   "id": "1b428a02",
   "metadata": {},
   "outputs": [],
   "source": [
    "row,col = df.shape"
   ]
  },
  {
   "cell_type": "code",
   "execution_count": 560,
   "id": "a32994f0",
   "metadata": {},
   "outputs": [
    {
     "data": {
      "text/plain": [
       "123"
      ]
     },
     "execution_count": 560,
     "metadata": {},
     "output_type": "execute_result"
    }
   ],
   "source": [
    "row"
   ]
  },
  {
   "cell_type": "code",
   "execution_count": 561,
   "id": "069f45ff",
   "metadata": {},
   "outputs": [
    {
     "data": {
      "text/plain": [
       "5"
      ]
     },
     "execution_count": 561,
     "metadata": {},
     "output_type": "execute_result"
    }
   ],
   "source": [
    "col"
   ]
  },
  {
   "cell_type": "markdown",
   "id": "16929005",
   "metadata": {},
   "source": [
    "# Measured soil water content "
   ]
  },
  {
   "cell_type": "code",
   "execution_count": 562,
   "id": "ac9e6938",
   "metadata": {},
   "outputs": [],
   "source": [
    "# Measured soil water content using SM100 Soil Moisture Sensor at 5cm depth"
   ]
  },
  {
   "cell_type": "code",
   "execution_count": 563,
   "id": "ae8167fd",
   "metadata": {},
   "outputs": [],
   "source": [
    "#plt.scatter(df['day'] , df['sm']) #"
   ]
  },
  {
   "cell_type": "code",
   "execution_count": 564,
   "id": "9867832a",
   "metadata": {
    "scrolled": true
   },
   "outputs": [
    {
     "data": {
      "image/png": "[encoded data removed]",
      "text/plain": [
       "<Figure size 432x288 with 1 Axes>"
      ]
     },
     "metadata": {
      "needs_background": "light"
     },
     "output_type": "display_data"
    }
   ],
   "source": [
    "#https://matplotlib.org/stable/api/_as_gen/matplotlib.pyplot.scatter.html\n",
    "\n",
    "plt.scatter(df['date'] , df['av_swc'], color='#3498DB',marker='*')\n",
    "plt.ylabel('Soil water content,%',color='green')\n",
    "plt.xlabel('Julian Day', color='green')\n",
    "plt.title('Soil water content at 5cm depth', color='blue')\n",
    "plt.savefig('av_swc_5cm.pdf')"
   ]
  },
  {
   "cell_type": "code",
   "execution_count": 565,
   "id": "5211a6f8",
   "metadata": {},
   "outputs": [],
   "source": [
    "x = df[['ppt','temp']] # x=df.drop('sm', axis=1)\n",
    "y = df['av_swc']"
   ]
  },
  {
   "cell_type": "code",
   "execution_count": null,
   "id": "7c08478f",
   "metadata": {},
   "outputs": [],
   "source": []
  },
  {
   "cell_type": "markdown",
   "id": "40e3d1c4",
   "metadata": {},
   "source": [
    "# Split the dataset"
   ]
  },
  {
   "cell_type": "code",
   "execution_count": 566,
   "id": "2ef50b03",
   "metadata": {},
   "outputs": [],
   "source": [
    "#https://scikit-learn.org/stable/\n",
    "from sklearn.model_selection import train_test_split"
   ]
  },
  {
   "cell_type": "code",
   "execution_count": 567,
   "id": "20a392ef",
   "metadata": {},
   "outputs": [],
   "source": [
    "#xtrain,xtest, ytrain,ytest=train_test_split(x,y,test_size=.30) # training data = 70%\n",
    "xtrain,xtest, ytrain,ytest=train_test_split(x,y,test_size=.15) # training data = 80%\n",
    "#xtrain,xtest, ytrain,ytest=train_test_split(x,y,test_size=.4) # training data = 95%"
   ]
  },
  {
   "cell_type": "code",
   "execution_count": 568,
   "id": "5c9d5029",
   "metadata": {},
   "outputs": [
    {
     "data": {
      "text/html": [
       "<div>\n",
       "<style scoped>\n",
       "    .dataframe tbody tr th:only-of-type {\n",
       "        vertical-align: middle;\n",
       "    }\n",
       "\n",
       "    .dataframe tbody tr th {\n",
       "        vertical-align: top;\n",
       "    }\n",
       "\n",
       "    .dataframe thead th {\n",
       "        text-align: right;\n",
       "    }\n",
       "</style>\n",
       "<table border=\"1\" class=\"dataframe\">\n",
       "  <thead>\n",
       "    <tr style=\"text-align: right;\">\n",
       "      <th></th>\n",
       "      <th>ppt</th>\n",
       "      <th>temp</th>\n",
       "    </tr>\n",
       "  </thead>\n",
       "  <tbody>\n",
       "    <tr>\n",
       "      <th>0</th>\n",
       "      <td>0.00</td>\n",
       "      <td>15.15</td>\n",
       "    </tr>\n",
       "    <tr>\n",
       "      <th>1</th>\n",
       "      <td>3.91</td>\n",
       "      <td>15.92</td>\n",
       "    </tr>\n",
       "    <tr>\n",
       "      <th>2</th>\n",
       "      <td>28.54</td>\n",
       "      <td>17.55</td>\n",
       "    </tr>\n",
       "    <tr>\n",
       "      <th>3</th>\n",
       "      <td>5.00</td>\n",
       "      <td>17.03</td>\n",
       "    </tr>\n",
       "    <tr>\n",
       "      <th>4</th>\n",
       "      <td>0.07</td>\n",
       "      <td>14.43</td>\n",
       "    </tr>\n",
       "  </tbody>\n",
       "</table>\n",
       "</div>"
      ],
      "text/plain": [
       "     ppt   temp\n",
       "0   0.00  15.15\n",
       "1   3.91  15.92\n",
       "2  28.54  17.55\n",
       "3   5.00  17.03\n",
       "4   0.07  14.43"
      ]
     },
     "execution_count": 568,
     "metadata": {},
     "output_type": "execute_result"
    }
   ],
   "source": [
    "x.head()"
   ]
  },
  {
   "cell_type": "code",
   "execution_count": 569,
   "id": "cf351771",
   "metadata": {},
   "outputs": [
    {
     "data": {
      "text/plain": [
       "0     8.983828\n",
       "1     9.242175\n",
       "2    21.879268\n",
       "3    24.168394\n",
       "4    17.626829\n",
       "Name: av_swc, dtype: float64"
      ]
     },
     "execution_count": 569,
     "metadata": {},
     "output_type": "execute_result"
    }
   ],
   "source": [
    "y.head()"
   ]
  },
  {
   "cell_type": "code",
   "execution_count": 570,
   "id": "b0b21824",
   "metadata": {},
   "outputs": [
    {
     "data": {
      "text/html": [
       "<div>\n",
       "<style scoped>\n",
       "    .dataframe tbody tr th:only-of-type {\n",
       "        vertical-align: middle;\n",
       "    }\n",
       "\n",
       "    .dataframe tbody tr th {\n",
       "        vertical-align: top;\n",
       "    }\n",
       "\n",
       "    .dataframe thead th {\n",
       "        text-align: right;\n",
       "    }\n",
       "</style>\n",
       "<table border=\"1\" class=\"dataframe\">\n",
       "  <thead>\n",
       "    <tr style=\"text-align: right;\">\n",
       "      <th></th>\n",
       "      <th>ppt</th>\n",
       "      <th>temp</th>\n",
       "    </tr>\n",
       "  </thead>\n",
       "  <tbody>\n",
       "    <tr>\n",
       "      <th>49</th>\n",
       "      <td>1.47</td>\n",
       "      <td>21.82</td>\n",
       "    </tr>\n",
       "    <tr>\n",
       "      <th>104</th>\n",
       "      <td>2.98</td>\n",
       "      <td>6.78</td>\n",
       "    </tr>\n",
       "    <tr>\n",
       "      <th>37</th>\n",
       "      <td>0.79</td>\n",
       "      <td>14.90</td>\n",
       "    </tr>\n",
       "    <tr>\n",
       "      <th>1</th>\n",
       "      <td>3.91</td>\n",
       "      <td>15.92</td>\n",
       "    </tr>\n",
       "    <tr>\n",
       "      <th>9</th>\n",
       "      <td>5.31</td>\n",
       "      <td>12.23</td>\n",
       "    </tr>\n",
       "  </tbody>\n",
       "</table>\n",
       "</div>"
      ],
      "text/plain": [
       "      ppt   temp\n",
       "49   1.47  21.82\n",
       "104  2.98   6.78\n",
       "37   0.79  14.90\n",
       "1    3.91  15.92\n",
       "9    5.31  12.23"
      ]
     },
     "execution_count": 570,
     "metadata": {},
     "output_type": "execute_result"
    }
   ],
   "source": [
    "xtrain.head()"
   ]
  },
  {
   "cell_type": "code",
   "execution_count": 571,
   "id": "862c217a",
   "metadata": {},
   "outputs": [
    {
     "data": {
      "text/plain": [
       "49     24.212103\n",
       "104    30.718056\n",
       "37     31.324527\n",
       "1       9.242175\n",
       "9      16.596415\n",
       "Name: av_swc, dtype: float64"
      ]
     },
     "execution_count": 571,
     "metadata": {},
     "output_type": "execute_result"
    }
   ],
   "source": [
    "ytrain.head()"
   ]
  },
  {
   "cell_type": "code",
   "execution_count": 572,
   "id": "2edf4b19",
   "metadata": {},
   "outputs": [
    {
     "data": {
      "text/html": [
       "<div>\n",
       "<style scoped>\n",
       "    .dataframe tbody tr th:only-of-type {\n",
       "        vertical-align: middle;\n",
       "    }\n",
       "\n",
       "    .dataframe tbody tr th {\n",
       "        vertical-align: top;\n",
       "    }\n",
       "\n",
       "    .dataframe thead th {\n",
       "        text-align: right;\n",
       "    }\n",
       "</style>\n",
       "<table border=\"1\" class=\"dataframe\">\n",
       "  <thead>\n",
       "    <tr style=\"text-align: right;\">\n",
       "      <th></th>\n",
       "      <th>ppt</th>\n",
       "      <th>temp</th>\n",
       "    </tr>\n",
       "  </thead>\n",
       "  <tbody>\n",
       "    <tr>\n",
       "      <th>100</th>\n",
       "      <td>1.64</td>\n",
       "      <td>9.28</td>\n",
       "    </tr>\n",
       "    <tr>\n",
       "      <th>17</th>\n",
       "      <td>2.40</td>\n",
       "      <td>12.84</td>\n",
       "    </tr>\n",
       "    <tr>\n",
       "      <th>83</th>\n",
       "      <td>11.16</td>\n",
       "      <td>13.00</td>\n",
       "    </tr>\n",
       "    <tr>\n",
       "      <th>57</th>\n",
       "      <td>0.06</td>\n",
       "      <td>13.23</td>\n",
       "    </tr>\n",
       "    <tr>\n",
       "      <th>51</th>\n",
       "      <td>1.50</td>\n",
       "      <td>20.15</td>\n",
       "    </tr>\n",
       "  </tbody>\n",
       "</table>\n",
       "</div>"
      ],
      "text/plain": [
       "       ppt   temp\n",
       "100   1.64   9.28\n",
       "17    2.40  12.84\n",
       "83   11.16  13.00\n",
       "57    0.06  13.23\n",
       "51    1.50  20.15"
      ]
     },
     "execution_count": 572,
     "metadata": {},
     "output_type": "execute_result"
    }
   ],
   "source": [
    "xtest.head()"
   ]
  },
  {
   "cell_type": "markdown",
   "id": "5873fbad",
   "metadata": {},
   "source": [
    "# MLR Model Creation"
   ]
  },
  {
   "cell_type": "code",
   "execution_count": 573,
   "id": "aa9ec42e",
   "metadata": {},
   "outputs": [],
   "source": [
    "from sklearn.linear_model import LinearRegression"
   ]
  },
  {
   "cell_type": "code",
   "execution_count": 574,
   "id": "792a274d",
   "metadata": {},
   "outputs": [],
   "source": [
    "reg = LinearRegression()    # obj"
   ]
  },
  {
   "cell_type": "code",
   "execution_count": 575,
   "id": "98635ae4",
   "metadata": {},
   "outputs": [
    {
     "data": {
      "text/plain": [
       "LinearRegression()"
      ]
     },
     "execution_count": 575,
     "metadata": {},
     "output_type": "execute_result"
    }
   ],
   "source": [
    "reg.fit(xtrain, ytrain)     # Training ML Model"
   ]
  },
  {
   "cell_type": "code",
   "execution_count": 576,
   "id": "f49e27b2",
   "metadata": {},
   "outputs": [],
   "source": [
    "df['predicted SWC'] = reg.predict(x)"
   ]
  },
  {
   "cell_type": "code",
   "execution_count": 577,
   "id": "1d626dec",
   "metadata": {},
   "outputs": [],
   "source": [
    "#df.head(20)"
   ]
  },
  {
   "cell_type": "code",
   "execution_count": 578,
   "id": "31756f7c",
   "metadata": {},
   "outputs": [],
   "source": [
    "pred = reg.predict(xtest)"
   ]
  },
  {
   "cell_type": "code",
   "execution_count": 579,
   "id": "01bc91c5",
   "metadata": {},
   "outputs": [
    {
     "data": {
      "text/plain": [
       "array([28.88801208, 25.74589708, 27.86651186, 24.77354165, 18.65616553,\n",
       "       25.46109481, 22.48981927, 22.52630343, 18.34872347, 28.76762132,\n",
       "       27.99171183, 29.63534838, 32.32546263, 33.8776413 , 24.97213024,\n",
       "       26.82274581, 22.78155872, 27.34452376, 25.09571253])"
      ]
     },
     "execution_count": 579,
     "metadata": {},
     "output_type": "execute_result"
    }
   ],
   "source": [
    "pred                                     # corr. result of ytest / y"
   ]
  },
  {
   "cell_type": "code",
   "execution_count": 580,
   "id": "004a3635",
   "metadata": {},
   "outputs": [],
   "source": [
    "#df.to_excel(\"SWC_output_70pdataTrain.xlsx\")"
   ]
  },
  {
   "cell_type": "code",
   "execution_count": null,
   "id": "9d25fef4",
   "metadata": {},
   "outputs": [],
   "source": []
  },
  {
   "cell_type": "code",
   "execution_count": 581,
   "id": "023f23ee",
   "metadata": {},
   "outputs": [],
   "source": [
    "from sklearn.metrics import mean_squared_error           #the lower the value the better "
   ]
  },
  {
   "cell_type": "code",
   "execution_count": 582,
   "id": "31aa9747",
   "metadata": {},
   "outputs": [],
   "source": [
    "mse = mean_squared_error(ytest, pred)"
   ]
  },
  {
   "cell_type": "code",
   "execution_count": 583,
   "id": "9c2862cc",
   "metadata": {},
   "outputs": [
    {
     "data": {
      "text/plain": [
       "46.8792164251711"
      ]
     },
     "execution_count": 583,
     "metadata": {},
     "output_type": "execute_result"
    }
   ],
   "source": [
    "mse"
   ]
  },
  {
   "cell_type": "code",
   "execution_count": 584,
   "id": "bac3365f",
   "metadata": {},
   "outputs": [],
   "source": [
    "from sklearn.metrics import mean_absolute_error #MAE lower than 20% is considered good for time series forecasting"
   ]
  },
  {
   "cell_type": "code",
   "execution_count": 585,
   "id": "e625e424",
   "metadata": {},
   "outputs": [],
   "source": [
    "mae = mean_absolute_error(ytest, pred)"
   ]
  },
  {
   "cell_type": "code",
   "execution_count": 543,
   "id": "9ebbe00c",
   "metadata": {},
   "outputs": [
    {
     "data": {
      "text/plain": [
       "4.245414143023047"
      ]
     },
     "execution_count": 543,
     "metadata": {},
     "output_type": "execute_result"
    }
   ],
   "source": [
    "mae"
   ]
  },
  {
   "cell_type": "code",
   "execution_count": 544,
   "id": "61b68686",
   "metadata": {},
   "outputs": [],
   "source": [
    "#accuracy=r2_score(ytest,pred)*100\n",
    "#print(\" Accuracy of the model is %.2f\" %accuracy)"
   ]
  },
  {
   "cell_type": "code",
   "execution_count": 545,
   "id": "04820b51",
   "metadata": {},
   "outputs": [
    {
     "data": {
      "text/html": [
       "<div>\n",
       "<style scoped>\n",
       "    .dataframe tbody tr th:only-of-type {\n",
       "        vertical-align: middle;\n",
       "    }\n",
       "\n",
       "    .dataframe tbody tr th {\n",
       "        vertical-align: top;\n",
       "    }\n",
       "\n",
       "    .dataframe thead th {\n",
       "        text-align: right;\n",
       "    }\n",
       "</style>\n",
       "<table border=\"1\" class=\"dataframe\">\n",
       "  <thead>\n",
       "    <tr style=\"text-align: right;\">\n",
       "      <th></th>\n",
       "      <th>ppt</th>\n",
       "      <th>temp</th>\n",
       "    </tr>\n",
       "  </thead>\n",
       "  <tbody>\n",
       "    <tr>\n",
       "      <th>6</th>\n",
       "      <td>18.73</td>\n",
       "      <td>8.52</td>\n",
       "    </tr>\n",
       "    <tr>\n",
       "      <th>104</th>\n",
       "      <td>2.98</td>\n",
       "      <td>6.78</td>\n",
       "    </tr>\n",
       "    <tr>\n",
       "      <th>15</th>\n",
       "      <td>2.49</td>\n",
       "      <td>15.05</td>\n",
       "    </tr>\n",
       "    <tr>\n",
       "      <th>97</th>\n",
       "      <td>9.60</td>\n",
       "      <td>9.96</td>\n",
       "    </tr>\n",
       "    <tr>\n",
       "      <th>60</th>\n",
       "      <td>2.03</td>\n",
       "      <td>18.67</td>\n",
       "    </tr>\n",
       "    <tr>\n",
       "      <th>107</th>\n",
       "      <td>0.01</td>\n",
       "      <td>5.43</td>\n",
       "    </tr>\n",
       "    <tr>\n",
       "      <th>75</th>\n",
       "      <td>0.32</td>\n",
       "      <td>13.55</td>\n",
       "    </tr>\n",
       "    <tr>\n",
       "      <th>112</th>\n",
       "      <td>0.54</td>\n",
       "      <td>7.67</td>\n",
       "    </tr>\n",
       "    <tr>\n",
       "      <th>55</th>\n",
       "      <td>0.16</td>\n",
       "      <td>20.06</td>\n",
       "    </tr>\n",
       "    <tr>\n",
       "      <th>35</th>\n",
       "      <td>10.68</td>\n",
       "      <td>14.30</td>\n",
       "    </tr>\n",
       "  </tbody>\n",
       "</table>\n",
       "</div>"
      ],
      "text/plain": [
       "       ppt   temp\n",
       "6    18.73   8.52\n",
       "104   2.98   6.78\n",
       "15    2.49  15.05\n",
       "97    9.60   9.96\n",
       "60    2.03  18.67\n",
       "107   0.01   5.43\n",
       "75    0.32  13.55\n",
       "112   0.54   7.67\n",
       "55    0.16  20.06\n",
       "35   10.68  14.30"
      ]
     },
     "execution_count": 545,
     "metadata": {},
     "output_type": "execute_result"
    }
   ],
   "source": [
    "xtest.head(10)"
   ]
  },
  {
   "cell_type": "code",
   "execution_count": 546,
   "id": "76f6b1a9",
   "metadata": {},
   "outputs": [
    {
     "data": {
      "text/plain": [
       "6      26.642636\n",
       "104    30.718056\n",
       "15     20.183915\n",
       "97     38.176852\n",
       "60     18.396496\n",
       "107    29.289630\n",
       "75     29.550833\n",
       "112    28.370463\n",
       "55     19.182407\n",
       "35     28.217140\n",
       "Name: av_swc, dtype: float64"
      ]
     },
     "execution_count": 546,
     "metadata": {},
     "output_type": "execute_result"
    }
   ],
   "source": [
    "ytest.head(10)"
   ]
  },
  {
   "cell_type": "code",
   "execution_count": 547,
   "id": "f2e2aed7",
   "metadata": {},
   "outputs": [
    {
     "data": {
      "text/plain": [
       "array([33.00971387, 30.91003757, 23.48144347, 29.62657025, 20.17302662,\n",
       "       31.4180271 , 24.30694764, 29.55904179, 18.51143718, 26.03706004,\n",
       "       21.2583303 , 18.88797269, 24.15811349, 34.02090315, 27.29789739,\n",
       "       28.58679724, 18.74141501, 34.57042202, 22.28504939])"
      ]
     },
     "execution_count": 547,
     "metadata": {},
     "output_type": "execute_result"
    }
   ],
   "source": [
    "pred"
   ]
  },
  {
   "cell_type": "code",
   "execution_count": null,
   "id": "46b38bf4",
   "metadata": {},
   "outputs": [],
   "source": []
  },
  {
   "cell_type": "markdown",
   "id": "8f744f00",
   "metadata": {},
   "source": [
    "# Best fit line"
   ]
  },
  {
   "cell_type": "code",
   "execution_count": 548,
   "id": "18aabaaa",
   "metadata": {},
   "outputs": [
    {
     "data": {
      "image/png": "[encoded data removed]",
      "text/plain": [
       "<Figure size 432x288 with 1 Axes>"
      ]
     },
     "metadata": {
      "needs_background": "light"
     },
     "output_type": "display_data"
    }
   ],
   "source": [
    "sns.regplot(x=ytest,y=pred,ci=None,color ='red');"
   ]
  },
  {
   "cell_type": "code",
   "execution_count": 549,
   "id": "3df07273",
   "metadata": {
    "scrolled": true
   },
   "outputs": [],
   "source": [
    "#Statistical Details of the dataset\n",
    "#df.describe()"
   ]
  },
  {
   "cell_type": "code",
   "execution_count": 550,
   "id": "10aa988f",
   "metadata": {},
   "outputs": [
    {
     "data": {
      "text/html": [
       "<div>\n",
       "<style scoped>\n",
       "    .dataframe tbody tr th:only-of-type {\n",
       "        vertical-align: middle;\n",
       "    }\n",
       "\n",
       "    .dataframe tbody tr th {\n",
       "        vertical-align: top;\n",
       "    }\n",
       "\n",
       "    .dataframe thead th {\n",
       "        text-align: right;\n",
       "    }\n",
       "</style>\n",
       "<table border=\"1\" class=\"dataframe\">\n",
       "  <thead>\n",
       "    <tr style=\"text-align: right;\">\n",
       "      <th></th>\n",
       "      <th>date</th>\n",
       "      <th>ppt</th>\n",
       "      <th>temp</th>\n",
       "      <th>swc</th>\n",
       "      <th>av_swc</th>\n",
       "      <th>predicted SWC</th>\n",
       "      <th>Difference</th>\n",
       "    </tr>\n",
       "  </thead>\n",
       "  <tbody>\n",
       "    <tr>\n",
       "      <th>0</th>\n",
       "      <td>25-Jun</td>\n",
       "      <td>0.00</td>\n",
       "      <td>15.15</td>\n",
       "      <td>6.853846</td>\n",
       "      <td>8.983828</td>\n",
       "      <td>22.817705</td>\n",
       "      <td>NaN</td>\n",
       "    </tr>\n",
       "    <tr>\n",
       "      <th>1</th>\n",
       "      <td>26-Jun</td>\n",
       "      <td>3.91</td>\n",
       "      <td>15.92</td>\n",
       "      <td>7.079167</td>\n",
       "      <td>9.242175</td>\n",
       "      <td>23.039940</td>\n",
       "      <td>NaN</td>\n",
       "    </tr>\n",
       "    <tr>\n",
       "      <th>2</th>\n",
       "      <td>27-Jun</td>\n",
       "      <td>28.54</td>\n",
       "      <td>17.55</td>\n",
       "      <td>16.808333</td>\n",
       "      <td>21.879268</td>\n",
       "      <td>27.288524</td>\n",
       "      <td>NaN</td>\n",
       "    </tr>\n",
       "    <tr>\n",
       "      <th>3</th>\n",
       "      <td>28-Jun</td>\n",
       "      <td>5.00</td>\n",
       "      <td>17.03</td>\n",
       "      <td>17.379167</td>\n",
       "      <td>24.168394</td>\n",
       "      <td>22.309899</td>\n",
       "      <td>NaN</td>\n",
       "    </tr>\n",
       "    <tr>\n",
       "      <th>4</th>\n",
       "      <td>29-Jun</td>\n",
       "      <td>0.07</td>\n",
       "      <td>14.43</td>\n",
       "      <td>13.500000</td>\n",
       "      <td>17.626829</td>\n",
       "      <td>23.470768</td>\n",
       "      <td>NaN</td>\n",
       "    </tr>\n",
       "    <tr>\n",
       "      <th>5</th>\n",
       "      <td>30-Jun</td>\n",
       "      <td>1.52</td>\n",
       "      <td>15.29</td>\n",
       "      <td>12.537500</td>\n",
       "      <td>15.303837</td>\n",
       "      <td>23.045041</td>\n",
       "      <td>NaN</td>\n",
       "    </tr>\n",
       "    <tr>\n",
       "      <th>6</th>\n",
       "      <td>01-Jul</td>\n",
       "      <td>18.73</td>\n",
       "      <td>8.52</td>\n",
       "      <td>21.883333</td>\n",
       "      <td>26.642636</td>\n",
       "      <td>33.009714</td>\n",
       "      <td>-6.367078</td>\n",
       "    </tr>\n",
       "    <tr>\n",
       "      <th>7</th>\n",
       "      <td>02-Jul</td>\n",
       "      <td>0.09</td>\n",
       "      <td>8.98</td>\n",
       "      <td>18.175000</td>\n",
       "      <td>23.184981</td>\n",
       "      <td>28.296290</td>\n",
       "      <td>NaN</td>\n",
       "    </tr>\n",
       "    <tr>\n",
       "      <th>8</th>\n",
       "      <td>03-Jul</td>\n",
       "      <td>0.01</td>\n",
       "      <td>14.19</td>\n",
       "      <td>15.516667</td>\n",
       "      <td>18.121899</td>\n",
       "      <td>23.669202</td>\n",
       "      <td>NaN</td>\n",
       "    </tr>\n",
       "    <tr>\n",
       "      <th>9</th>\n",
       "      <td>04-Jul</td>\n",
       "      <td>5.31</td>\n",
       "      <td>12.23</td>\n",
       "      <td>14.900000</td>\n",
       "      <td>16.596415</td>\n",
       "      <td>26.627451</td>\n",
       "      <td>NaN</td>\n",
       "    </tr>\n",
       "  </tbody>\n",
       "</table>\n",
       "</div>"
      ],
      "text/plain": [
       "     date    ppt   temp        swc     av_swc  predicted SWC  Difference\n",
       "0  25-Jun   0.00  15.15   6.853846   8.983828      22.817705         NaN\n",
       "1  26-Jun   3.91  15.92   7.079167   9.242175      23.039940         NaN\n",
       "2  27-Jun  28.54  17.55  16.808333  21.879268      27.288524         NaN\n",
       "3  28-Jun   5.00  17.03  17.379167  24.168394      22.309899         NaN\n",
       "4  29-Jun   0.07  14.43  13.500000  17.626829      23.470768         NaN\n",
       "5  30-Jun   1.52  15.29  12.537500  15.303837      23.045041         NaN\n",
       "6  01-Jul  18.73   8.52  21.883333  26.642636      33.009714   -6.367078\n",
       "7  02-Jul   0.09   8.98  18.175000  23.184981      28.296290         NaN\n",
       "8  03-Jul   0.01  14.19  15.516667  18.121899      23.669202         NaN\n",
       "9  04-Jul   5.31  12.23  14.900000  16.596415      26.627451         NaN"
      ]
     },
     "execution_count": 550,
     "metadata": {},
     "output_type": "execute_result"
    }
   ],
   "source": [
    "#df_pred=pd.DataFrame{'Actual Value':ytest,'Predicted Value':pred,'Difference':ytest-pred}\n",
    "#pred_df['Actual Value','Predicted Value','Difference'] = pd.DataFrame{ytest,pred,ytest-pred}\n",
    "#df_pred=pd.DataFrame{ytest,pred,ytest-pred}\n",
    "df['Difference'] = ytest - pred                                # reg.predict(x)\n",
    "df.head(10)"
   ]
  },
  {
   "cell_type": "code",
   "execution_count": 551,
   "id": "a7fdc87f",
   "metadata": {},
   "outputs": [
    {
     "data": {
      "image/png": "[encoded data removed]",
      "text/plain": [
       "<Figure size 432x288 with 1 Axes>"
      ]
     },
     "metadata": {
      "needs_background": "light"
     },
     "output_type": "display_data"
    }
   ],
   "source": [
    "plt.scatter(ytest,pred);\n",
    "plt.xlabel('Actual');\n",
    "plt.ylabel('Predicted');\n",
    "#plt.figure(figsize=(12,8)) #\n",
    "#plt.scatter(df['day'] , df['sm'], color='#3498DB',marker='*')\n",
    "#plt.plot(xtest, reg.predict(xtest), marker = 'o',color='black')"
   ]
  },
  {
   "cell_type": "code",
   "execution_count": null,
   "id": "ddfcb0f1",
   "metadata": {},
   "outputs": [],
   "source": []
  },
  {
   "cell_type": "code",
   "execution_count": null,
   "id": "bbe7aa69",
   "metadata": {},
   "outputs": [],
   "source": []
  },
  {
   "cell_type": "code",
   "execution_count": null,
   "id": "0132d6da",
   "metadata": {},
   "outputs": [],
   "source": []
  }
 ],
 "metadata": {
  "kernelspec": {
   "display_name": "Python 3 (ipykernel)",
   "language": "python",
   "name": "python3"
  },
  "language_info": {
   "codemirror_mode": {
    "name": "ipython",
    "version": 3
   },
   "file_extension": ".py",
   "mimetype": "text/x-python",
   "name": "python",
   "nbconvert_exporter": "python",
   "pygments_lexer": "ipython3",
   "version": "3.9.12"
  }
 },
 "nbformat": 4,
 "nbformat_minor": 5
}
